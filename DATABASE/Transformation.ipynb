{
 "cells": [
  {
   "cell_type": "code",
   "execution_count": 2,
   "id": "7809b954",
   "metadata": {},
   "outputs": [
    {
     "name": "stdout",
     "output_type": "stream",
     "text": [
      "Requirement already satisfied: pyspark in c:\\users\\abdelrahman mohammed\\anaconda3\\lib\\site-packages (3.5.3)\n",
      "Requirement already satisfied: py4j==0.10.9.7 in c:\\users\\abdelrahman mohammed\\anaconda3\\lib\\site-packages (from pyspark) (0.10.9.7)\n",
      "Note: you may need to restart the kernel to use updated packages.\n"
     ]
    }
   ],
   "source": [
    "pip install pyspark"
   ]
  },
  {
   "cell_type": "markdown",
   "id": "0fc33030",
   "metadata": {},
   "source": [
    "# The core syntax for reading data in Apache Spark"
   ]
  },
  {
   "cell_type": "markdown",
   "id": "76abac09",
   "metadata": {},
   "source": [
    "spark.read \\\n",
    "     .format() \\ # this is the raw format you are reading from\n",
    "     .option(\"key\", \"value\") \\\n",
    "     .schema() \\ # this is optional, use when you know the schema\n",
    "     .load(path)"
   ]
  },
  {
   "cell_type": "markdown",
   "id": "4dcbd461",
   "metadata": {},
   "source": [
    "# Implementation on Databricks"
   ]
  },
  {
   "cell_type": "markdown",
   "id": "d2afb8be",
   "metadata": {},
   "source": [
    "dataPath = \"/databricks-datasets/Rdatasets/data-001/csv/ggplot2/diamonds.csv\"\n",
    "diamonds = sqlContext.read.format(\"csv\")\\\n",
    "  .option(\"header\",\"true\")\\\n",
    "  .option(\"inferSchema\", \"true\")\\\n",
    "  .load(dataPath)"
   ]
  },
  {
   "cell_type": "code",
   "execution_count": 3,
   "id": "8ac8c428",
   "metadata": {},
   "outputs": [],
   "source": [
    "from pyspark.sql import SparkSession\n",
    "from pyspark.sql.functions import to_timestamp\n",
    "from pyspark.sql.functions import col, avg, count, max, min, sum, when, datediff, to_date, hour\n",
    "\n",
    "# Initialize Spark session\n",
    "spark = SparkSession.builder.appName(\"UberDataAnalysis\").getOrCreate()\n",
    "\n",
    "# Load the CSV files into DataFrames\n",
    "location_df = spark.read.csv(\"Location.csv\", header=True, inferSchema=True)\n",
    "payment_df = spark.read.csv(\"Payment.csv\", header=True, inferSchema=True)\n",
    "payment_method_df = spark.read.csv(\"PaymentMethod.csv\", header=True, inferSchema=True)\n",
    "payment_status_df = spark.read.csv(\"PaymentStatus.csv\", header=True, inferSchema=True)\n",
    "request_df = spark.read.csv(\"Request.csv\", header=True, inferSchema=True)\n",
    "trip_df = spark.read.csv(\"Trip.csv\", header=True, inferSchema=True)\n",
    "user_df = spark.read.csv(\"User.csv\", header=True, inferSchema=True)\n",
    "vehicle_df = spark.read.csv(\"Vehicles.csv\", header=True, inferSchema=True)\n",
    "vehicle_make_df = spark.read.csv(\"VehicleMakes.csv\", header=True, inferSchema=True)"
   ]
  },
  {
   "cell_type": "code",
   "execution_count": 4,
   "id": "67364339",
   "metadata": {},
   "outputs": [
    {
     "name": "stdout",
     "output_type": "stream",
     "text": [
      "+----------+------------+-----------+\n",
      "|LocationID|   Longitude|   Latitude|\n",
      "+----------+------------+-----------+\n",
      "|     97296|-73.99623871|40.76356125|\n",
      "|     15450|-74.00886536|40.71373367|\n",
      "|    372799|-73.97459412|40.79328918|\n",
      "|    422524|-73.96847534|40.76134491|\n",
      "|     13283|-74.00952911|40.70638275|\n",
      "|    140452|-73.99201202|40.72574615|\n",
      "|    198469|-73.98804474|40.76394272|\n",
      "|    182912|-73.98912811|40.75777054|\n",
      "|    497703|-73.95536041|40.77952957|\n",
      "|    245176|-73.98457336|40.73636627|\n",
      "+----------+------------+-----------+\n",
      "only showing top 10 rows\n",
      "\n"
     ]
    }
   ],
   "source": [
    "location_df.show(10)"
   ]
  },
  {
   "cell_type": "code",
   "execution_count": 5,
   "id": "c3366460",
   "metadata": {},
   "outputs": [
    {
     "name": "stdout",
     "output_type": "stream",
     "text": [
      "+---------+---------------+---------------+\n",
      "|PaymentID|PaymentMethodID|PaymentStatusID|\n",
      "+---------+---------------+---------------+\n",
      "|        6|              6|              4|\n",
      "|        6|              6|              2|\n",
      "|        3|              3|              1|\n",
      "|        6|              6|              4|\n",
      "|        6|              6|              1|\n",
      "|        3|              3|              2|\n",
      "|        4|              4|              4|\n",
      "|        5|              5|              2|\n",
      "|        6|              6|              1|\n",
      "|        6|              6|              2|\n",
      "+---------+---------------+---------------+\n",
      "only showing top 10 rows\n",
      "\n"
     ]
    }
   ],
   "source": [
    "payment_df.show(10)"
   ]
  },
  {
   "cell_type": "code",
   "execution_count": 6,
   "id": "e6c5bcc4",
   "metadata": {},
   "outputs": [
    {
     "name": "stdout",
     "output_type": "stream",
     "text": [
      "+---------------+-----------+\n",
      "|PaymentMethodID| MethodName|\n",
      "+---------------+-----------+\n",
      "|              5| Google Pay|\n",
      "|              1|  Apple Pay|\n",
      "|              6|     PayPal|\n",
      "|              3|Credit Card|\n",
      "|              2|       Cash|\n",
      "|              4| Debit Card|\n",
      "+---------------+-----------+\n",
      "\n"
     ]
    }
   ],
   "source": [
    "payment_method_df.show(10)"
   ]
  },
  {
   "cell_type": "code",
   "execution_count": 7,
   "id": "4ffe84e3",
   "metadata": {},
   "outputs": [
    {
     "name": "stdout",
     "output_type": "stream",
     "text": [
      "+---------------+----------+\n",
      "|PaymentStatusID|StatusName|\n",
      "+---------------+----------+\n",
      "|              2|    Failed|\n",
      "|              3|   Pending|\n",
      "|              1| Completed|\n",
      "|              4|  Refunded|\n",
      "+---------------+----------+\n",
      "\n"
     ]
    }
   ],
   "source": [
    "payment_status_df.show(10)"
   ]
  },
  {
   "cell_type": "code",
   "execution_count": 8,
   "id": "b93c2de8",
   "metadata": {},
   "outputs": [
    {
     "name": "stdout",
     "output_type": "stream",
     "text": [
      "+---------+-----------+----------------+-----------------+--------------------+--------------------+\n",
      "|RequestID|PassengerID|PickupLocationID|DropoffLocationID|         RequestTime|          AcceptTime|\n",
      "+---------+-----------+----------------+-----------------+--------------------+--------------------+\n",
      "|    49931|      25047|          414675|           300838|1/7/2015 11:11:00 AM|1/7/2015 11:16:00 AM|\n",
      "|    78920|      39119|          213486|           528405|1/12/2015 8:50:00 PM|1/12/2015 8:56:00 PM|\n",
      "|    67630|      33474|          229932|           251111|1/13/2015 8:27:00 PM|1/13/2015 8:30:00 PM|\n",
      "|    99696|      48616|           37162|            48307|1/23/2015 9:57:00 AM|1/23/2015 10:01:0...|\n",
      "|   373166|     185748|          208583|           342678|1/25/2015 1:05:00 AM|1/25/2015 1:15:00 AM|\n",
      "|    98670|      48171|          400957|           419446|1/30/2015 6:26:00 PM|1/30/2015 6:35:00 PM|\n",
      "|   523433|     261901|          544240|           371345| 1/8/2015 5:43:00 PM| 1/8/2015 5:46:00 PM|\n",
      "|   513320|     257069|          292455|           396956|1/14/2015 11:02:0...|1/14/2015 11:10:0...|\n",
      "|   170253|      83935|          318162|           442169|1/26/2015 7:46:00 AM|1/26/2015 7:52:00 AM|\n",
      "|   378558|     188622|          137902|           390741|1/3/2015 10:02:00 AM|1/3/2015 10:12:00 AM|\n",
      "+---------+-----------+----------------+-----------------+--------------------+--------------------+\n",
      "only showing top 10 rows\n",
      "\n"
     ]
    }
   ],
   "source": [
    "request_df.show(10)"
   ]
  },
  {
   "cell_type": "code",
   "execution_count": 9,
   "id": "59a3e2fc",
   "metadata": {},
   "outputs": [
    {
     "name": "stdout",
     "output_type": "stream",
     "text": [
      "+------+-------------+--------------------+--------------+----------------+\n",
      "|UserID|     FullName|               Email|   PhoneNumber|DriverMeanRating|\n",
      "+------+-------------+--------------------+--------------+----------------+\n",
      "|     1| Aaron Acosta| vbishop@example.net|(677) 367-9557|            NULL|\n",
      "|     2|  Aaron Adams| james82@example.com|(332) 224-7965|            NULL|\n",
      "|     3|  Aaron Adams|nicholas92@exampl...|(351) 943-8670|            NULL|\n",
      "|     4|  Aaron Adams|zjohnson@example.com|(324) 384-5822|            NULL|\n",
      "|     5|Aaron Aguilar|anthony78@example...|(867) 762-3031|            NULL|\n",
      "+------+-------------+--------------------+--------------+----------------+\n",
      "only showing top 5 rows\n",
      "\n"
     ]
    }
   ],
   "source": [
    "user_df.show(5)"
   ]
  },
  {
   "cell_type": "markdown",
   "id": "35215d10",
   "metadata": {},
   "source": [
    "# Data Cleaning (Drop NULL Values)"
   ]
  },
  {
   "cell_type": "code",
   "execution_count": 22,
   "id": "0d5791cb",
   "metadata": {},
   "outputs": [],
   "source": [
    "user_df = user_df.drop(\"DriverMeanRating\")\n",
    "trip_df = trip_df.drop(\"driver_rating\")"
   ]
  },
  {
   "cell_type": "code",
   "execution_count": 23,
   "id": "c6d8bf34",
   "metadata": {},
   "outputs": [
    {
     "name": "stdout",
     "output_type": "stream",
     "text": [
      "+------+---------------+--------------------+--------------+\n",
      "|UserID|       FullName|               Email|   PhoneNumber|\n",
      "+------+---------------+--------------------+--------------+\n",
      "|     1|   Aaron Acosta| vbishop@example.net|(677) 367-9557|\n",
      "|     2|    Aaron Adams| james82@example.com|(332) 224-7965|\n",
      "|     3|    Aaron Adams|nicholas92@exampl...|(351) 943-8670|\n",
      "|     4|    Aaron Adams|zjohnson@example.com|(324) 384-5822|\n",
      "|     5|  Aaron Aguilar|anthony78@example...|(867) 762-3031|\n",
      "|     6|  Aaron Aguilar|wilsonruben@examp...|(376) 707-8408|\n",
      "|     7|  Aaron Aguirre|samantha45@exampl...|(147) 383-2497|\n",
      "|     8|Aaron Alexander|   phall@example.org|(761) 557-5601|\n",
      "|     9|    Aaron Allen| amber80@example.com|(613) 319-4730|\n",
      "|    10|    Aaron Allen|joseph77@example.net|(104) 903-5333|\n",
      "|    11|    Aaron Allen|nicolecasey@examp...|(921) 454-7983|\n",
      "|    12|    Aaron Allen|reyesmonica@examp...|(603) 745-9470|\n",
      "|    13|  Aaron Allison|sullivanamy@examp...|(288) 221-8294|\n",
      "|    14|  Aaron Alvarez|daniel11@example.net|(240) 297-8660|\n",
      "|    15| Aaron Anderson|hillkeith@example...|(702) 666-9955|\n",
      "|    16| Aaron Anderson|kellyclark@exampl...|(180) 641-4969|\n",
      "|    17| Aaron Anderson|russell26@example...|(730) 874-9493|\n",
      "|    18| Aaron Anderson|vshelton@example.com|(226) 998-6405|\n",
      "|    19| Aaron Anderson|  wgreen@example.org|(266) 834-3104|\n",
      "|    20|  Aaron Andrade|leemichael@exampl...|(523) 143-7943|\n",
      "+------+---------------+--------------------+--------------+\n",
      "only showing top 20 rows\n",
      "\n"
     ]
    }
   ],
   "source": [
    "user_df.show()"
   ]
  },
  {
   "cell_type": "code",
   "execution_count": 25,
   "id": "16720b6a",
   "metadata": {},
   "outputs": [
    {
     "name": "stdout",
     "output_type": "stream",
     "text": [
      "+------+---------+--------+---------+---------+--------------------+--------------------+------------+--------+---------+------+---------+-----------+--------------------+\n",
      "|TripID|RequestID|DriverID|VehicleID|PaymentID|       TripStartTime|         TripEndTime|TripDistance|BaseFare|ExtraFare|MtaTax|TipAmount|TollsAmount|ImprovementSurcharge|\n",
      "+------+---------+--------+---------+---------+--------------------+--------------------+------------+--------+---------+------+---------+-----------+--------------------+\n",
      "|     1|   369036|  968141|   363309|        6|1/15/2015 7:05:00 PM|1/15/2015 7:23:00 PM|        1.59|    12.0|      1.0|   0.5|     3.25|        0.0|                 0.3|\n",
      "|     2|   369031| 1024488|   336402|        6|1/10/2015 8:33:00 PM|1/10/2015 8:53:00 PM|         3.3|    14.5|      0.5|   0.5|      2.0|        0.0|                 0.3|\n",
      "|     3|   369030|  968141|   287846|        3|1/10/2015 8:33:00 PM|1/10/2015 8:43:00 PM|         1.8|     9.5|      0.5|   0.5|      0.0|        0.0|                 0.3|\n",
      "|     4|   289268|  985570|   336402|        6|1/10/2015 8:33:00 PM|1/10/2015 8:35:00 PM|         0.5|     3.5|      0.5|   0.5|      0.0|        0.0|                 0.3|\n",
      "|     5|   391034| 1035937|   336402|        6|1/10/2015 8:33:00 PM|1/10/2015 8:52:00 PM|         3.0|    15.0|      0.5|   0.5|      0.0|        0.0|                 0.3|\n",
      "|     6|   391035|  979590|   363309|        3|1/10/2015 8:33:00 PM|1/10/2015 8:53:00 PM|         9.0|    27.0|      0.5|   0.5|      6.7|       5.33|                 0.3|\n",
      "|     7|   369032|  968141|   216258|        4|1/10/2015 8:33:00 PM|1/10/2015 8:58:00 PM|         2.2|    14.0|      0.5|   0.5|      0.0|        0.0|                 0.3|\n",
      "|     8|   369029|  955652|    20459|        5|1/10/2015 8:33:00 PM|1/10/2015 8:42:00 PM|         0.8|     7.0|      0.5|   0.5|     1.66|        0.0|                 0.3|\n",
      "|     9|   369033|  955652|    20459|        6|1/10/2015 8:33:00 PM|1/10/2015 9:11:00 PM|        18.2|    52.0|      0.0|   0.5|      0.0|       5.33|                 0.3|\n",
      "|    10|   391033|  976925|   287518|        6|1/10/2015 8:33:00 PM|1/10/2015 8:40:00 PM|         0.9|     6.5|      0.5|   0.5|     1.55|        0.0|                 0.3|\n",
      "+------+---------+--------+---------+---------+--------------------+--------------------+------------+--------+---------+------+---------+-----------+--------------------+\n",
      "only showing top 10 rows\n",
      "\n"
     ]
    }
   ],
   "source": [
    "trip_df.show(10)"
   ]
  },
  {
   "cell_type": "markdown",
   "id": "5d054fc8",
   "metadata": {},
   "source": [
    "# Handling Missing Vlaues"
   ]
  },
  {
   "cell_type": "code",
   "execution_count": 32,
   "id": "e1b3302f",
   "metadata": {},
   "outputs": [],
   "source": [
    "trip_df = trip_df.na.fill({\"BaseFare\": 0, \"ExtraFare\": 0, \"MtaTax\": 0, \"TipAmount\": 0, \"TollsAmount\": 0, \"ImprovementSurcharge\": 0})"
   ]
  },
  {
   "cell_type": "code",
   "execution_count": 33,
   "id": "2dfd1610",
   "metadata": {},
   "outputs": [
    {
     "name": "stdout",
     "output_type": "stream",
     "text": [
      "+------+---------+--------+---------+---------+--------------------+--------------------+------------+--------+---------+------+---------+-----------+--------------------+\n",
      "|TripID|RequestID|DriverID|VehicleID|PaymentID|       TripStartTime|         TripEndTime|TripDistance|BaseFare|ExtraFare|MtaTax|TipAmount|TollsAmount|ImprovementSurcharge|\n",
      "+------+---------+--------+---------+---------+--------------------+--------------------+------------+--------+---------+------+---------+-----------+--------------------+\n",
      "|     1|   369036|  968141|   363309|        6|1/15/2015 7:05:00 PM|1/15/2015 7:23:00 PM|        1.59|    12.0|      1.0|   0.5|     3.25|        0.0|                 0.3|\n",
      "|     2|   369031| 1024488|   336402|        6|1/10/2015 8:33:00 PM|1/10/2015 8:53:00 PM|         3.3|    14.5|      0.5|   0.5|      2.0|        0.0|                 0.3|\n",
      "|     3|   369030|  968141|   287846|        3|1/10/2015 8:33:00 PM|1/10/2015 8:43:00 PM|         1.8|     9.5|      0.5|   0.5|      0.0|        0.0|                 0.3|\n",
      "|     4|   289268|  985570|   336402|        6|1/10/2015 8:33:00 PM|1/10/2015 8:35:00 PM|         0.5|     3.5|      0.5|   0.5|      0.0|        0.0|                 0.3|\n",
      "|     5|   391034| 1035937|   336402|        6|1/10/2015 8:33:00 PM|1/10/2015 8:52:00 PM|         3.0|    15.0|      0.5|   0.5|      0.0|        0.0|                 0.3|\n",
      "+------+---------+--------+---------+---------+--------------------+--------------------+------------+--------+---------+------+---------+-----------+--------------------+\n",
      "only showing top 5 rows\n",
      "\n"
     ]
    }
   ],
   "source": [
    "trip_df.show(5)"
   ]
  },
  {
   "cell_type": "code",
   "execution_count": null,
   "id": "e4ebe628",
   "metadata": {},
   "outputs": [],
   "source": [
    "Converting to sutable "
   ]
  },
  {
   "cell_type": "code",
   "execution_count": 37,
   "id": "e6e71b34",
   "metadata": {},
   "outputs": [
    {
     "name": "stdout",
     "output_type": "stream",
     "text": [
      "+------+---------+--------+---------+---------+--------------------+--------------------+------------+--------+---------+------+---------+-----------+--------------------+-----------+\n",
      "|TripID|RequestID|DriverID|VehicleID|PaymentID|       TripStartTime|         TripEndTime|TripDistance|BaseFare|ExtraFare|MtaTax|TipAmount|TollsAmount|ImprovementSurcharge|pickup_date|\n",
      "+------+---------+--------+---------+---------+--------------------+--------------------+------------+--------+---------+------+---------+-----------+--------------------+-----------+\n",
      "|     1|   369036|  968141|   363309|        6|1/15/2015 7:05:00 PM|1/15/2015 7:23:00 PM|        1.59|    12.0|      1.0|   0.5|     3.25|        0.0|                 0.3|       NULL|\n",
      "|     2|   369031| 1024488|   336402|        6|1/10/2015 8:33:00 PM|1/10/2015 8:53:00 PM|         3.3|    14.5|      0.5|   0.5|      2.0|        0.0|                 0.3|       NULL|\n",
      "|     3|   369030|  968141|   287846|        3|1/10/2015 8:33:00 PM|1/10/2015 8:43:00 PM|         1.8|     9.5|      0.5|   0.5|      0.0|        0.0|                 0.3|       NULL|\n",
      "|     4|   289268|  985570|   336402|        6|1/10/2015 8:33:00 PM|1/10/2015 8:35:00 PM|         0.5|     3.5|      0.5|   0.5|      0.0|        0.0|                 0.3|       NULL|\n",
      "|     5|   391034| 1035937|   336402|        6|1/10/2015 8:33:00 PM|1/10/2015 8:52:00 PM|         3.0|    15.0|      0.5|   0.5|      0.0|        0.0|                 0.3|       NULL|\n",
      "|     6|   391035|  979590|   363309|        3|1/10/2015 8:33:00 PM|1/10/2015 8:53:00 PM|         9.0|    27.0|      0.5|   0.5|      6.7|       5.33|                 0.3|       NULL|\n",
      "|     7|   369032|  968141|   216258|        4|1/10/2015 8:33:00 PM|1/10/2015 8:58:00 PM|         2.2|    14.0|      0.5|   0.5|      0.0|        0.0|                 0.3|       NULL|\n",
      "|     8|   369029|  955652|    20459|        5|1/10/2015 8:33:00 PM|1/10/2015 8:42:00 PM|         0.8|     7.0|      0.5|   0.5|     1.66|        0.0|                 0.3|       NULL|\n",
      "|     9|   369033|  955652|    20459|        6|1/10/2015 8:33:00 PM|1/10/2015 9:11:00 PM|        18.2|    52.0|      0.0|   0.5|      0.0|       5.33|                 0.3|       NULL|\n",
      "|    10|   391033|  976925|   287518|        6|1/10/2015 8:33:00 PM|1/10/2015 8:40:00 PM|         0.9|     6.5|      0.5|   0.5|     1.55|        0.0|                 0.3|       NULL|\n",
      "|    11|   369028|  968141|   287846|        4|1/10/2015 8:33:00 PM|1/10/2015 8:41:00 PM|         0.9|     7.0|      0.5|   0.5|     1.66|        0.0|                 0.3|       NULL|\n",
      "|    12|   487455|  945787|   180530|        5|1/10/2015 8:33:00 PM|1/10/2015 8:43:00 PM|         1.1|     7.5|      0.5|   0.5|      1.0|        0.0|                 0.3|       NULL|\n",
      "|    13|   364626| 1022396|   336402|        1|1/10/2015 8:33:00 PM|1/10/2015 8:35:00 PM|         0.3|     3.0|      0.5|   0.5|      0.0|        0.0|                 0.3|       NULL|\n",
      "|    14|   503776| 1121482|   109854|        2|1/10/2015 8:33:00 PM|1/10/2015 9:03:00 PM|         3.1|    19.0|      0.5|   0.5|      3.0|        0.0|                 0.3|       NULL|\n",
      "|    15|   369027|  968141|   216258|        3|1/10/2015 8:33:00 PM|1/10/2015 8:39:00 PM|         1.1|     6.0|      0.5|   0.5|      0.0|        0.0|                 0.3|       NULL|\n",
      "|    16|   289273|  985570|   336402|        2|1/15/2015 7:05:00 PM|1/15/2015 7:32:00 PM|        2.38|    16.5|      1.0|   0.5|     4.38|        0.0|                 0.3|       NULL|\n",
      "|    17|   289271|  916734|    20459|        5|1/15/2015 7:05:00 PM|1/15/2015 7:21:00 PM|        2.83|    12.5|      1.0|   0.5|      0.0|        0.0|                 0.3|       NULL|\n",
      "|    18|   289272| 1132648|   168868|        1|1/15/2015 7:05:00 PM|1/15/2015 7:28:00 PM|        8.33|    26.0|      1.0|   0.5|     8.08|       5.33|                 0.3|       NULL|\n",
      "|    19|   487457| 1232120|   203478|        3|1/15/2015 7:05:00 PM|1/15/2015 7:20:00 PM|        2.37|    11.5|      1.0|   0.5|      0.0|        0.0|                 0.3|       NULL|\n",
      "|    20|   487456| 1113111|   295520|        6|1/15/2015 7:05:00 PM|1/15/2015 7:20:00 PM|        7.13|    21.5|      1.0|   0.5|      4.5|        0.0|                 0.3|       NULL|\n",
      "+------+---------+--------+---------+---------+--------------------+--------------------+------------+--------+---------+------+---------+-----------+--------------------+-----------+\n",
      "only showing top 20 rows\n",
      "\n"
     ]
    }
   ],
   "source": [
    "# Assuming TripStartTime is the correct column for pickup time\n",
    "trip_df = trip_df.withColumn(\"pickup_date\", to_timestamp(col(\"TripStartTime\")).cast(\"date\"))\n",
    "trip_df = trip_df.withColumn(\"pickup_date\", to_timestamp(col(\"TripEndTime\")).cast(\"date\"))\n",
    "# Show the resulting DataFrame\n",
    "trip_df.show()"
   ]
  },
  {
   "cell_type": "markdown",
   "id": "82d7862f",
   "metadata": {},
   "source": [
    "# What are the most common pickup and dropoff locations?"
   ]
  },
  {
   "cell_type": "code",
   "execution_count": 10,
   "id": "40a93860",
   "metadata": {},
   "outputs": [
    {
     "name": "stdout",
     "output_type": "stream",
     "text": [
      "+------------+-----------+------------+\n",
      "|   Longitude|   Latitude|pickup_count|\n",
      "+------------+-----------+------------+\n",
      "|-73.78796387|40.64152527|       11157|\n",
      "|-73.95028687|40.79550171|          43|\n",
      "|-74.18402863|40.68948364|          29|\n",
      "|-74.00323486|40.73168182|          15|\n",
      "|-73.93746185|40.74890137|          11|\n",
      "|-73.98692322|40.72085953|          10|\n",
      "|-73.97848511|40.76370239|          10|\n",
      "|-73.98863983|40.71881866|           9|\n",
      "|-74.00162506|40.74097824|           7|\n",
      "| -73.9397049|40.79433823|           7|\n",
      "|-73.99417877|40.75109863|           7|\n",
      "|-73.94628906|40.77302933|           7|\n",
      "|-73.99411011|40.75112152|           7|\n",
      "|-73.99414063|40.75106812|           7|\n",
      "|  -73.994133|40.75118637|           6|\n",
      "|-73.87104034|40.77378082|           6|\n",
      "|-73.87440491|40.77396011|           6|\n",
      "|-73.92472076|40.76171875|           6|\n",
      "| -73.7883606|40.64736938|           6|\n",
      "|-73.94959259|40.77273178|           6|\n",
      "+------------+-----------+------------+\n",
      "only showing top 20 rows\n",
      "\n",
      "+------------+-----------+-------------+\n",
      "|   Longitude|   Latitude|dropoff_count|\n",
      "+------------+-----------+-------------+\n",
      "|-73.77718353|40.64489746|        10815|\n",
      "|-73.95304108|40.78292847|           43|\n",
      "|-74.09727478|40.67108536|           29|\n",
      "|-74.00291443|40.74389648|           15|\n",
      "|-73.89987946|40.74604034|           11|\n",
      "| -73.9801712|40.74279785|           10|\n",
      "|-73.98789978| 40.7311058|           10|\n",
      "|-73.98937225|40.75694275|            9|\n",
      "|-73.99142456|40.75011826|            8|\n",
      "|-74.00147247|40.73601151|            7|\n",
      "|-73.94871521|40.80911636|            7|\n",
      "|-73.92666626|40.70544052|            7|\n",
      "|-73.87093353|40.77378082|            6|\n",
      "|-73.95700073|40.78023148|            6|\n",
      "|-73.87110901|40.77384186|            6|\n",
      "|-73.87454224|40.77410889|            6|\n",
      "|-73.94160461|40.82333374|            5|\n",
      "|-73.87457275|40.77412033|            5|\n",
      "|-73.87308502|40.77411652|            5|\n",
      "|-73.99156189|40.74998856|            5|\n",
      "+------------+-----------+-------------+\n",
      "only showing top 20 rows\n",
      "\n"
     ]
    }
   ],
   "source": [
    "# Join request_df with location_df for both PickupLocationID and DropoffLocationID\n",
    "pickup_location_df = request_df.join(location_df, request_df.PickupLocationID == location_df.LocationID)\n",
    "dropoff_location_df = request_df.join(location_df, request_df.DropoffLocationID == location_df.LocationID)\n",
    "\n",
    "# Find the most common pickup and dropoff locations\n",
    "pickup_location_df.groupBy(\"Longitude\", \"Latitude\").agg(count(\"*\").alias(\"pickup_count\")).orderBy(col(\"pickup_count\").desc()).show()\n",
    "dropoff_location_df.groupBy(\"Longitude\", \"Latitude\").agg(count(\"*\").alias(\"dropoff_count\")).orderBy(col(\"dropoff_count\").desc()).show()"
   ]
  },
  {
   "cell_type": "markdown",
   "id": "6d944359",
   "metadata": {},
   "source": [
    "# How many trips does each passenger take, and what is their average trip distance?"
   ]
  },
  {
   "cell_type": "code",
   "execution_count": 31,
   "id": "4c78e764",
   "metadata": {},
   "outputs": [
    {
     "name": "stdout",
     "output_type": "stream",
     "text": [
      "+-----------+----------+------------------+\n",
      "|PassengerID|trip_count| avg_trip_distance|\n",
      "+-----------+----------+------------------+\n",
      "|     195168|        23|2.7113043478260868|\n",
      "|     183719|        19|2.6389473684210527|\n",
      "|     208524|        17|2.9947058823529416|\n",
      "|       6076|        16|          2.788125|\n",
      "|     283761|        16|           2.47875|\n",
      "|     259447|        16|1.9562499999999998|\n",
      "|     207380|        16|          1.971875|\n",
      "|      28440|        16|            2.9225|\n",
      "|     194260|        15|             2.168|\n",
      "|     208173|        15|1.6353333333333337|\n",
      "|      56911|        15| 4.360666666666668|\n",
      "|      81120|        15|2.9406666666666665|\n",
      "|      86477|        15|3.3400000000000003|\n",
      "|      77372|        15| 4.496666666666668|\n",
      "|     125266|        15|2.6446666666666667|\n",
      "|     219865|        15| 3.131333333333333|\n",
      "|      32041|        15|3.3273333333333337|\n",
      "|     258125|        15|2.0073333333333334|\n",
      "|      51695|        15|1.8993333333333335|\n",
      "|     269183|        15|2.1279999999999997|\n",
      "+-----------+----------+------------------+\n",
      "only showing top 20 rows\n",
      "\n"
     ]
    }
   ],
   "source": [
    "# Join trip_df with request_df to get passenger information, then group by passenger\n",
    "trip_passenger_df = trip_df.join(request_df, trip_df.RequestID == request_df.RequestID)\n",
    "\n",
    "# Group by PassengerID to calculate the number of trips and average distance\n",
    "trip_passenger_df.groupBy(\"PassengerID\").agg(\n",
    "    count(\"*\").alias(\"trip_count\"),\n",
    "    avg(\"TripDistance\").alias(\"avg_trip_distance\")\n",
    ").orderBy(col(\"trip_count\").desc()).show()\n"
   ]
  },
  {
   "cell_type": "markdown",
   "id": "ffe3a262",
   "metadata": {},
   "source": [
    "# What are the most common vehicle makes and models used in trips?"
   ]
  },
  {
   "cell_type": "code",
   "execution_count": 18,
   "id": "c7b300e3",
   "metadata": {},
   "outputs": [
    {
     "name": "stdout",
     "output_type": "stream",
     "text": [
      "+-------------+------+-----+\n",
      "|     MakeName| Model|count|\n",
      "+-------------+------+-----+\n",
      "|        Honda|Accord| 7587|\n",
      "|      Hyundai|Tucson| 7578|\n",
      "|   Volkswagen|Beetle| 7568|\n",
      "|          Kia| Forte| 7557|\n",
      "|       Nissan|Sentra| 7540|\n",
      "|       Nissan|Altima| 7534|\n",
      "|Mercedes-Benz|   GLC| 7534|\n",
      "|       Toyota|  RAV4| 7530|\n",
      "|         Ford|Escape| 7527|\n",
      "|       Nissan|Maxima| 7527|\n",
      "+-------------+------+-----+\n",
      "only showing top 10 rows\n",
      "\n"
     ]
    }
   ],
   "source": [
    "vehicle_full_df = vehicle_df.join(vehicle_make_df, on='MakeID')\n",
    "\n",
    "# Group by MakeName and Model, and count the occurrences\n",
    "vehicle_full_df.groupBy('MakeName', 'Model').count().orderBy('count', ascending=False).show(10)"
   ]
  },
  {
   "cell_type": "code",
   "execution_count": 26,
   "id": "a61cb375",
   "metadata": {},
   "outputs": [
    {
     "name": "stdout",
     "output_type": "stream",
     "text": [
      "+------+---------+--------+---------+---------+--------------------+--------------------+------------+--------+---------+------+---------+-----------+--------------------+\n",
      "|TripID|RequestID|DriverID|VehicleID|PaymentID|       TripStartTime|         TripEndTime|TripDistance|BaseFare|ExtraFare|MtaTax|TipAmount|TollsAmount|ImprovementSurcharge|\n",
      "+------+---------+--------+---------+---------+--------------------+--------------------+------------+--------+---------+------+---------+-----------+--------------------+\n",
      "|     1|   369036|  968141|   363309|        6|1/15/2015 7:05:00 PM|1/15/2015 7:23:00 PM|        1.59|    12.0|      1.0|   0.5|     3.25|        0.0|                 0.3|\n",
      "|     2|   369031| 1024488|   336402|        6|1/10/2015 8:33:00 PM|1/10/2015 8:53:00 PM|         3.3|    14.5|      0.5|   0.5|      2.0|        0.0|                 0.3|\n",
      "|     3|   369030|  968141|   287846|        3|1/10/2015 8:33:00 PM|1/10/2015 8:43:00 PM|         1.8|     9.5|      0.5|   0.5|      0.0|        0.0|                 0.3|\n",
      "|     4|   289268|  985570|   336402|        6|1/10/2015 8:33:00 PM|1/10/2015 8:35:00 PM|         0.5|     3.5|      0.5|   0.5|      0.0|        0.0|                 0.3|\n",
      "|     5|   391034| 1035937|   336402|        6|1/10/2015 8:33:00 PM|1/10/2015 8:52:00 PM|         3.0|    15.0|      0.5|   0.5|      0.0|        0.0|                 0.3|\n",
      "+------+---------+--------+---------+---------+--------------------+--------------------+------------+--------+---------+------+---------+-----------+--------------------+\n",
      "only showing top 5 rows\n",
      "\n"
     ]
    }
   ],
   "source": [
    "trip_df.show(5)"
   ]
  },
  {
   "cell_type": "code",
   "execution_count": null,
   "id": "48838435",
   "metadata": {},
   "outputs": [],
   "source": []
  }
 ],
 "metadata": {
  "kernelspec": {
   "display_name": "Python 3 (ipykernel)",
   "language": "python",
   "name": "python3"
  },
  "language_info": {
   "codemirror_mode": {
    "name": "ipython",
    "version": 3
   },
   "file_extension": ".py",
   "mimetype": "text/x-python",
   "name": "python",
   "nbconvert_exporter": "python",
   "pygments_lexer": "ipython3",
   "version": "3.11.5"
  }
 },
 "nbformat": 4,
 "nbformat_minor": 5
}
